{
 "cells": [
  {
   "cell_type": "markdown",
   "metadata": {},
   "source": [
     "### This part trains a neural network so the model can give correct results.\n",
     "Reads the dataset and presents the location and the journeys to the network so it can be trained.\n",
     "The result of the training is shown below, the model reaches 100% after 3 epochs. The network continues to get better and both the training loss and the validation loss decreases. This means that it will generalise better if it is given data from the same distribution.\n",
     "This will be tested below..."
   ]
  },
  {
   "cell_type": "code",
   "execution_count": 9,
   "metadata": {},
   "outputs": [
    {
     "data": {
      "text/html": [
       "Total time: 00:07 <p><table style='width:300px; margin-bottom:10px'>\n",
       "  <tr>\n",
       "    <th>epoch</th>\n",
       "    <th>train_loss</th>\n",
       "    <th>valid_loss</th>\n",
       "    <th>accuracy</th>\n",
       "  </tr>\n",
       "  <tr>\n",
       "    <th>1</th>\n",
       "    <th>1.896222</th>\n",
       "    <th>1.911966</th>\n",
       "    <th>0.178571</th>\n",
       "  </tr>\n",
       "  <tr>\n",
       "    <th>2</th>\n",
       "    <th>1.436965</th>\n",
       "    <th>1.726557</th>\n",
       "    <th>0.750000</th>\n",
       "  </tr>\n",
       "  <tr>\n",
       "    <th>3</th>\n",
       "    <th>1.111838</th>\n",
       "    <th>1.398489</th>\n",
       "    <th>1.000000</th>\n",
       "  </tr>\n",
       "  <tr>\n",
       "    <th>4</th>\n",
       "    <th>0.895433</th>\n",
       "    <th>1.049875</th>\n",
       "    <th>1.000000</th>\n",
       "  </tr>\n",
       "  <tr>\n",
       "    <th>5</th>\n",
       "    <th>0.738659</th>\n",
       "    <th>0.766617</th>\n",
       "    <th>1.000000</th>\n",
       "  </tr>\n",
       "  <tr>\n",
       "    <th>6</th>\n",
       "    <th>0.621754</th>\n",
       "    <th>0.574967</th>\n",
       "    <th>1.000000</th>\n",
       "  </tr>\n",
       "  <tr>\n",
       "    <th>7</th>\n",
       "    <th>0.534375</th>\n",
       "    <th>0.444890</th>\n",
       "    <th>1.000000</th>\n",
       "  </tr>\n",
       "  <tr>\n",
       "    <th>8</th>\n",
       "    <th>0.467260</th>\n",
       "    <th>0.354125</th>\n",
       "    <th>1.000000</th>\n",
       "  </tr>\n",
       "  <tr>\n",
       "    <th>9</th>\n",
       "    <th>0.415046</th>\n",
       "    <th>0.296186</th>\n",
       "    <th>1.000000</th>\n",
       "  </tr>\n",
       "  <tr>\n",
       "    <th>10</th>\n",
       "    <th>0.372076</th>\n",
       "    <th>0.250501</th>\n",
       "    <th>1.000000</th>\n",
       "  </tr>\n",
       "</table>\n"
      ],
      "text/plain": [
       "<IPython.core.display.HTML object>"
      ]
     },
     "metadata": {},
     "output_type": "display_data"
    },
    {
     "data": {
      "image/png": "[encoded data removed]",
      "text/plain": [
       "<Figure size 432x288 with 1 Axes>"
      ]
     },
     "metadata": {},
     "output_type": "display_data"
    },
    {
     "name": "stdout",
     "output_type": "stream",
     "text": [
      "CPU times: user 4.05 s, sys: 3.03 s, total: 7.08 s\n",
      "Wall time: 7.96 s\n"
     ]
    }
   ],
   "source": [
    "from fastai import *          # Quick accesss to most common functionality\n",
    "from fastai.tabular import *\n",
    "dataSet = pd.read_csv(\"data.csv\")\n",
    "cont_names =['longitude','latitude']\n",
    "valid_idx = list(np.random.randint(0,len(dataSet),int(len(dataSet)*0.1)))\n",
    "data = (TabularList.from_df(dataSet,cont_names=cont_names, procs=[FillMissing, Categorify, Normalize])\n",
    "    .split_by_idx(valid_idx)\n",
    "    .label_from_df(cols='journey')\n",
    "    .databunch())\n",
    "learner=tabular_learner(data, layers=[800,200],metrics=accuracy,callback_fns=ShowGraph)\n",
    "%time learner.fit_one_cycle(10)"
   ]
  },
  {
   "cell_type": "markdown",
   "metadata": {},
   "source": [
    "### Ok time to test it\n",
    "Read in the test file and check so the trained model gives correct results."
   ]
  },
  {
   "cell_type": "code",
   "execution_count": 13,
   "metadata": {},
   "outputs": [
    {
     "name": "stdout",
     "output_type": "stream",
     "text": [
      "100.0% of the rows were correct.\n"
     ]
    }
   ],
   "source": [
    "result = 0\n",
    "accuracy = 0\n",
    "dataTestSet = pd.read_csv(\"dataTest.csv\")\n",
    "for x in range(0,dataTestSet.shape[0]):\n",
    "    correct = int(dataTestSet.iloc[x].journey)  #remove journey\n",
    "    predicted = learner.predict(dataTestSet.iloc[x]);\n",
    "    if (str(correct)==str(predicted[0])):\n",
    "        result=result+1\n",
    "accuracy=result/dataTestSet.shape[0]\n",
    "print (str(accuracy*100)+\"% of the rows were correct.\")"
   ]
  }
 ],
 "metadata": {
  "kernelspec": {
   "display_name": "Python 3",
   "language": "python",
   "name": "python3"
  },
  "language_info": {
   "codemirror_mode": {
    "name": "ipython",
    "version": 3
   },
   "file_extension": ".py",
   "mimetype": "text/x-python",
   "name": "python",
   "nbconvert_exporter": "python",
   "pygments_lexer": "ipython3",
   "version": "3.7.2"
  }
 },
 "nbformat": 4,
 "nbformat_minor": 2
}
